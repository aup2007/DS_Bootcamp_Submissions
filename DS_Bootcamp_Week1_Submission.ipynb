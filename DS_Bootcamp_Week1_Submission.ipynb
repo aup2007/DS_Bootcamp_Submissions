{
  "nbformat": 4,
  "nbformat_minor": 0,
  "metadata": {
    "colab": {
      "provenance": []
    },
    "kernelspec": {
      "name": "python3",
      "display_name": "Python 3"
    },
    "language_info": {
      "name": "python"
    }
  },
  "cells": [
    {
      "cell_type": "markdown",
      "source": [
        "## **Name: Atharv Uday Parab**\n",
        "## **NetID: aup2007**"
      ],
      "metadata": {
        "id": "ESDS0Y-V0sul"
      }
    },
    {
      "cell_type": "markdown",
      "source": [
        "## 1. Fibonnaci Series"
      ],
      "metadata": {
        "id": "DsTSoTK2QULf"
      }
    },
    {
      "cell_type": "code",
      "source": [
        "n = 10\n",
        "count = 0\n",
        "sum = 0\n",
        "n1 = 0\n",
        "n2 = 1\n",
        "\n",
        "for i in range(0,n):\n",
        "  sum = n1 + n2\n",
        "  print(sum,'\\n')\n",
        "  n1 = n2\n",
        "  n2 = sum\n",
        "  count += 1"
      ],
      "metadata": {
        "colab": {
          "base_uri": "https://localhost:8080/"
        },
        "id": "5gslnL_FPc3B",
        "outputId": "93bef329-e8fb-4834-d8b0-e25a785dd323"
      },
      "execution_count": 3,
      "outputs": [
        {
          "output_type": "stream",
          "name": "stdout",
          "text": [
            "1 \n",
            "\n",
            "2 \n",
            "\n",
            "3 \n",
            "\n",
            "5 \n",
            "\n",
            "8 \n",
            "\n",
            "13 \n",
            "\n",
            "21 \n",
            "\n",
            "34 \n",
            "\n",
            "55 \n",
            "\n",
            "89 \n",
            "\n"
          ]
        }
      ]
    },
    {
      "cell_type": "markdown",
      "source": [
        "## 2. Numbers in odd indices"
      ],
      "metadata": {
        "id": "F23Ids1FRQYT"
      }
    },
    {
      "cell_type": "code",
      "source": [
        "arr = [1,2,3,4,5,6,7,8,9,10]\n",
        "\n",
        "print('Numbers in odd indices of list are: \\n')\n",
        "for i in range (1,n,2):\n",
        "  print(arr[i])\n"
      ],
      "metadata": {
        "colab": {
          "base_uri": "https://localhost:8080/"
        },
        "id": "zaqj8zm4Q5NR",
        "outputId": "6fcbc764-8ec8-4810-fbaf-8e383801c9eb"
      },
      "execution_count": 5,
      "outputs": [
        {
          "output_type": "stream",
          "name": "stdout",
          "text": [
            "Numbers in odd indices of list are: \n",
            "\n",
            "2\n",
            "4\n",
            "6\n",
            "8\n",
            "10\n"
          ]
        }
      ]
    },
    {
      "cell_type": "markdown",
      "source": [
        "## 3. Printing list in reverse\n"
      ],
      "metadata": {
        "id": "XASfXSJpTE2H"
      }
    },
    {
      "cell_type": "code",
      "source": [
        "arr = [1,2,3,4,5,6,7,8,9,10]\n",
        "print(\"List in reverse order:\",arr[::-1])"
      ],
      "metadata": {
        "colab": {
          "base_uri": "https://localhost:8080/"
        },
        "id": "Xs4Hko5LTKBe",
        "outputId": "33e8d1b7-a5f3-454e-ccbf-50709317a916"
      },
      "execution_count": 16,
      "outputs": [
        {
          "output_type": "stream",
          "name": "stdout",
          "text": [
            "List in reverse order: [10, 9, 8, 7, 6, 5, 4, 3, 2, 1]\n"
          ]
        }
      ]
    },
    {
      "cell_type": "markdown",
      "source": [
        "## 4. Number of different words in text"
      ],
      "metadata": {
        "id": "tyIpjKzPVTQC"
      }
    },
    {
      "cell_type": "code",
      "source": [
        "string = \"\"\"\n",
        "\tChatGPT has created this text to provide tips on creating interesting paragraphs.\n",
        "\tFirst, start with a clear topic sentence that introduces the main idea.\n",
        "\tThen, support the topic sentence with specific details, examples, and evidence.\n",
        "\tVary the sentence length and structure to keep the reader engaged.\n",
        "\tFinally, end with a strong concluding sentence that summarizes the main points.\n",
        "\tRemember, practice makes perfect!\n",
        "\t\"\"\"\n",
        "\n",
        "uniqueWords = {}\n",
        "arr = string.split()\n",
        "for i in arr:\n",
        "  if i in uniqueWords:\n",
        "    uniqueWords[i] += 1\n",
        "  else:\n",
        "    uniqueWords[i]= 1\n",
        "\n",
        "print('No. of unique words in string: ',len(uniqueWords))\n",
        "print(uniqueWords,'\\n')\n"
      ],
      "metadata": {
        "colab": {
          "base_uri": "https://localhost:8080/"
        },
        "id": "bRT8kockVWr-",
        "outputId": "582a6b10-dc48-48cd-b8da-d0fe5ce2a979"
      },
      "execution_count": 26,
      "outputs": [
        {
          "output_type": "stream",
          "name": "stdout",
          "text": [
            "No. of unique words in string:  47\n",
            "{'ChatGPT': 1, 'has': 1, 'created': 1, 'this': 1, 'text': 1, 'to': 2, 'provide': 1, 'tips': 1, 'on': 1, 'creating': 1, 'interesting': 1, 'paragraphs.': 1, 'First,': 1, 'start': 1, 'with': 3, 'a': 2, 'clear': 1, 'topic': 2, 'sentence': 4, 'that': 2, 'introduces': 1, 'the': 5, 'main': 2, 'idea.': 1, 'Then,': 1, 'support': 1, 'specific': 1, 'details,': 1, 'examples,': 1, 'and': 2, 'evidence.': 1, 'Vary': 1, 'length': 1, 'structure': 1, 'keep': 1, 'reader': 1, 'engaged.': 1, 'Finally,': 1, 'end': 1, 'strong': 1, 'concluding': 1, 'summarizes': 1, 'points.': 1, 'Remember,': 1, 'practice': 1, 'makes': 1, 'perfect!': 1} \n",
            "\n"
          ]
        }
      ]
    },
    {
      "cell_type": "markdown",
      "source": [
        "## 5. Number of vowels in a word"
      ],
      "metadata": {
        "id": "cRNpdXCKX1YF"
      }
    },
    {
      "cell_type": "code",
      "source": [
        "count = 0\n",
        "def countVowels(word):\n",
        "  global count\n",
        "  for i in word:\n",
        "    if i=='a':\n",
        "      count +=1\n",
        "    if i=='e':\n",
        "      count +=1\n",
        "    if i=='i':\n",
        "      count +=1\n",
        "    if i=='o':\n",
        "      count +=1\n",
        "    if i=='u':\n",
        "      count +=1\n",
        "  return count\n",
        "\n",
        "inputWord = str(input(\"Enter a word: \"))\n",
        "print('Number of vowels:',countVowels(inputWord))"
      ],
      "metadata": {
        "colab": {
          "base_uri": "https://localhost:8080/"
        },
        "id": "QxPAShthX6Mi",
        "outputId": "5800638c-c8af-4af4-ce62-4e49b11ef6f1"
      },
      "execution_count": 6,
      "outputs": [
        {
          "output_type": "stream",
          "name": "stdout",
          "text": [
            "Enter a word: Atharv\n",
            "Number of vowels: 1\n"
          ]
        }
      ]
    },
    {
      "cell_type": "markdown",
      "source": [
        "## 6. Words in Caps"
      ],
      "metadata": {
        "id": "iBermn5yZYKZ"
      }
    },
    {
      "cell_type": "code",
      "source": [
        "animals=['tiger', 'elephant', 'monkey', 'zebra', 'panther']\n",
        "\n",
        "for i in animals:\n",
        "  print(i.upper())"
      ],
      "metadata": {
        "colab": {
          "base_uri": "https://localhost:8080/"
        },
        "id": "nzZtE46VZaDp",
        "outputId": "191f1af4-7a51-4dbc-9f4f-65bf175392ec"
      },
      "execution_count": 37,
      "outputs": [
        {
          "output_type": "stream",
          "name": "stdout",
          "text": [
            "TIGER\n",
            "ELEPHANT\n",
            "MONKEY\n",
            "ZEBRA\n",
            "PANTHER\n"
          ]
        }
      ]
    },
    {
      "cell_type": "markdown",
      "source": [
        "## 7. Sequential Printing"
      ],
      "metadata": {
        "id": "GDwI35-WaaOs"
      }
    },
    {
      "cell_type": "code",
      "source": [
        "for i in range (1,16):\n",
        "  if i%2==1:\n",
        "    print(i,'is odd')\n",
        "  elif i %2 == 0:\n",
        "    print(i,'is even')"
      ],
      "metadata": {
        "colab": {
          "base_uri": "https://localhost:8080/"
        },
        "id": "xffxn9COadMX",
        "outputId": "5ff9fc51-7c27-41c4-b151-854ec77580a9"
      },
      "execution_count": 38,
      "outputs": [
        {
          "output_type": "stream",
          "name": "stdout",
          "text": [
            "1 is odd\n",
            "2 is even\n",
            "3 is odd\n",
            "4 is even\n",
            "5 is odd\n",
            "6 is even\n",
            "7 is odd\n",
            "8 is even\n",
            "9 is odd\n",
            "10 is even\n",
            "11 is odd\n",
            "12 is even\n",
            "13 is odd\n",
            "14 is even\n",
            "15 is odd\n"
          ]
        }
      ]
    },
    {
      "cell_type": "markdown",
      "source": [
        "## 8. Sum of 2 integers"
      ],
      "metadata": {
        "id": "C_JdL0a7bIHC"
      }
    },
    {
      "cell_type": "code",
      "source": [
        "n1 = int(input(\"enter a number:\"))\n",
        "n2 = int(input(\"enter a number:\"))\n",
        "\n",
        "sum = n1+n2\n",
        "print('Sum: ', sum)"
      ],
      "metadata": {
        "colab": {
          "base_uri": "https://localhost:8080/"
        },
        "id": "dakoAZjcbJoW",
        "outputId": "51974ffb-c205-4d85-e1ff-77f7f930aeeb"
      },
      "execution_count": 39,
      "outputs": [
        {
          "output_type": "stream",
          "name": "stdout",
          "text": [
            "enter a number:2\n",
            "enter a number:3\n",
            "Sum:  5\n"
          ]
        }
      ]
    },
    {
      "cell_type": "code",
      "source": [],
      "metadata": {
        "id": "eeoz6N5AbUO0"
      },
      "execution_count": null,
      "outputs": []
    }
  ]
}